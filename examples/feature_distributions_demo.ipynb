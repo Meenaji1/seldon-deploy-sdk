{
 "cells": [
  {
   "cell_type": "code",
   "execution_count": 1,
   "metadata": {},
   "outputs": [],
   "source": [
    "from seldon_deploy_sdk.rest import ApiException\n",
    "\n",
    "from seldon_deploy_sdk import MonitorApi,DeploymentFeatureData, Configuration, ApiClient\n",
    "from seldon_deploy_sdk.auth import OIDCAuthenticator"
   ]
  },
  {
   "cell_type": "code",
   "execution_count": 2,
   "metadata": {},
   "outputs": [],
   "source": [
    "INGRESS = \"http://localhost:8000\"\n",
    "\n",
    "config = Configuration()\n",
    "config.host = f\"{INGRESS}/seldon-deploy/api/v1alpha1\"\n",
    "\n",
    "config.oidc_server = f\"{INGRESS}/auth/realms/deploy-realm\"\n",
    "config.oidc_client_id = \"sd-api\"\n",
    "config.oidc_client_secret = \"sd-api-secret\"\n",
    "config.auth_method = \"client_credentials\"\n",
    "auth = OIDCAuthenticator(config)\n",
    "config.access_token = auth.authenticate()\n"
   ]
  },
  {
   "cell_type": "code",
   "execution_count": 3,
   "metadata": {},
   "outputs": [],
   "source": [
    "api_client = ApiClient(configuration=config,authenticator=auth)\n",
    "api_instance = MonitorApi(api_client)"
   ]
  },
  {
   "cell_type": "code",
   "execution_count": 4,
   "metadata": {},
   "outputs": [],
   "source": [
    "deployment_name=\"income-classifier\"\n",
    "deployment_namespace=\"seldon\"\n",
    "feature_data = DeploymentFeatureData(\n",
    "    feature=\"Education\",\n",
    "    interaction=\"request\",\n",
    "    aggregate_over_time=True\n",
    ")\n",
    "try:\n",
    "    # Get feature distributions\n",
    "    api_response = api_instance.seldon_deployment_feature_distributions(deployment_name,deployment_namespace,feature_data)\n",
    "except ApiException as e:\n",
    "    print(f\"Couldn't fetch distributions: {e}\")"
   ]
  },
  {
   "cell_type": "code",
   "execution_count": 5,
   "metadata": {},
   "outputs": [],
   "source": [
    "groups = []\n",
    "counts = []\n",
    "for bucket in api_response.distribution.buckets:\n",
    "    groups.append(bucket.key)\n",
    "    counts.append(bucket.count)"
   ]
  },
  {
   "cell_type": "code",
   "execution_count": 6,
   "metadata": {},
   "outputs": [
    {
     "data": {
      "image/png": "[encoded data removed]",
      "text/plain": [
       "<Figure size 432x288 with 1 Axes>"
      ]
     },
     "metadata": {
      "needs_background": "light"
     },
     "output_type": "display_data"
    }
   ],
   "source": [
    "import matplotlib.pyplot as plt\n",
    "fig = plt.figure()\n",
    "ax = fig.add_axes([0,0,1,1])\n",
    "ax.bar(groups,counts)\n",
    "plt.show()"
   ]
  }
 ],
 "metadata": {
  "interpreter": {
   "hash": "916dbcbb3f70747c44a77c7bcd40155683ae19c65e1c03b4aa3499c5328201f1"
  },
  "kernelspec": {
   "display_name": "Python 3.8.5 64-bit",
   "name": "python3"
  },
  "language_info": {
   "codemirror_mode": {
    "name": "ipython",
    "version": 3
   },
   "file_extension": ".py",
   "mimetype": "text/x-python",
   "name": "python",
   "nbconvert_exporter": "python",
   "pygments_lexer": "ipython3",
   "version": "3.8.5"
  },
  "orig_nbformat": 4
 },
 "nbformat": 4,
 "nbformat_minor": 2
}